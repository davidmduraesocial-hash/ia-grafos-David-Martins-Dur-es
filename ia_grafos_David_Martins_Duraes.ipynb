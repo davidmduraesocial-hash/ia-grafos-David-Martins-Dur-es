{
  "cells": [
    {
      "cell_type": "markdown",
      "metadata": {
        "id": "view-in-github",
        "colab_type": "text"
      },
      "source": [
        "<a href=\"https://colab.research.google.com/github/davidmduraesocial-hash/ia-grafos-David-Martins-Dur-es/blob/main/ia_grafos_David_Martins_Duraes.ipynb\" target=\"_parent\"><img src=\"https://colab.research.google.com/assets/colab-badge.svg\" alt=\"Open In Colab\"/></a>"
      ]
    },
    {
      "cell_type": "markdown",
      "source": [
        "**Lista de Exercícios N2 - Grafos e Algoritmos de Busca**\n",
        "\n",
        "Nome: [DAVID MARTINS DURÃES]\n",
        "\n",
        "Turma: [ENGCO221N01]\n",
        "\n",
        "GitHub: [https://github.com/davidmduraesocial-hash/ia-grafos-David-Martins-Dur-es.git]"
      ],
      "metadata": {
        "id": "dRQ7mr_vHqvA"
      }
    },
    {
      "cell_type": "markdown",
      "source": [
        "**Parte A — Algoritmo de Dijkstra**\n",
        "\n",
        "**Implementação do Algoritmo de Dijkstra**"
      ],
      "metadata": {
        "id": "YDKIz489IOQu"
      }
    },
    {
      "cell_type": "code",
      "source": [
        "import heapq\n",
        "from collections import defaultdict\n",
        "\n",
        "def dijkstra(graph, start):\n",
        "\n",
        "    # Inicialização\n",
        "    dist = {node: float('inf') for node in graph}\n",
        "    parent = {node: None for node in graph}\n",
        "    dist[start] = 0\n",
        "\n",
        "    # Fila de prioridade\n",
        "    pq = [(0, start)]\n",
        "\n",
        "    while pq:\n",
        "        current_dist, current_node = heapq.heappop(pq)\n",
        "\n",
        "        # Se encontramos um caminho melhor antes, ignoramos\n",
        "        if current_dist > dist[current_node]:\n",
        "            continue\n",
        "\n",
        "        # Explora vizinhos\n",
        "        for neighbor, weight in graph[current_node]:\n",
        "            distance = current_dist + weight\n",
        "\n",
        "            # Relaxamento\n",
        "            if distance < dist[neighbor]:\n",
        "                dist[neighbor] = distance\n",
        "                parent[neighbor] = current_node\n",
        "                heapq.heappush(pq, (distance, neighbor))\n",
        "\n",
        "    return dist, parent\n",
        "\n",
        "def reconstruct_path(parent, target):\n",
        "\n",
        "    path = []\n",
        "    current = target\n",
        "\n",
        "    while current is not None:\n",
        "        path.append(current)\n",
        "        current = parent[current]\n",
        "\n",
        "    return path[::-1]  # Inverte para começar do início\n",
        "\n",
        "#(sistema de navegação para ambulâncias)\n",
        "graph = {\n",
        "    'Hospital': [('A', 5), ('B', 2)],\n",
        "    'A': [('Hospital', 5), ('C', 3), ('D', 7)],\n",
        "    'B': [('Hospital', 2), ('C', 1), ('E', 4)],\n",
        "    'C': [('A', 3), ('B', 1), ('D', 2), ('E', 3)],\n",
        "    'D': [('A', 7), ('C', 2), ('Destino', 6)],\n",
        "    'E': [('B', 4), ('C', 3), ('Destino', 2)],\n",
        "    'Destino': [('D', 6), ('E', 2)]\n",
        "}\n",
        "\n",
        "# Executa Dijkstra\n",
        "start = 'Hospital'\n",
        "target = 'Destino'\n",
        "distances, predecessors = dijkstra(graph, start)\n",
        "path = reconstruct_path(predecessors, target)\n",
        "\n",
        "print(f\"Distância mínima: {distances[target]} minutos\")\n",
        "print(f\"Caminho: {' → '.join(path)}\")\n",
        "\n",
        "# Verificação manual\n",
        "print(\"\\nDistâncias mínimas de\", start)\n",
        "for node, dist in distances.items():\n",
        "    print(f\"{node}: {dist} minutos\")"
      ],
      "metadata": {
        "colab": {
          "base_uri": "https://localhost:8080/"
        },
        "id": "kNgELFFDIRj2",
        "outputId": "c191c476-1ae3-4f0a-d4de-c2e3d73260ce"
      },
      "execution_count": null,
      "outputs": [
        {
          "output_type": "stream",
          "name": "stdout",
          "text": [
            "Distância mínima: 8 minutos\n",
            "Caminho: Hospital → B → E → Destino\n",
            "\n",
            "Distâncias mínimas de Hospital\n",
            "Hospital: 0 minutos\n",
            "A: 5 minutos\n",
            "B: 2 minutos\n",
            "C: 3 minutos\n",
            "D: 5 minutos\n",
            "E: 6 minutos\n",
            "Destino: 8 minutos\n"
          ]
        }
      ]
    },
    {
      "cell_type": "markdown",
      "source": [
        "**1. Por que Dijkstra exige arestas não negativas?**\n",
        "\n",
        "O algoritmo de Dijkstra funciona sob o princípio de que uma vez que um nó é marcado como visitado, sua distância mínima já foi encontrada. Com pesos negativos, este princípio é violado porque um caminho mais longo poderia se tornar mais curto ao passar por uma aresta negativa posteriormente. Isso faria com que o algoritmo não garantisse a corretude do resultado.\n",
        "\n",
        "**2. Qual a complexidade do algoritmo com lista de adjacência e heapq?**\n",
        "\n",
        "A complexidade é O((V + E) log V), onde:\n",
        "\n",
        "· V é o número de vértices\n",
        "\n",
        "· E é o número de arestas\n",
        "\n",
        "\n",
        "Cada vértice é inserido/removido da heap (O(log V)) e cada aresta é processada uma vez, com isso o heap binária, as operações de inserção e remoção são logarítmicas."
      ],
      "metadata": {
        "id": "8wSi0ove9VY7"
      }
    },
    {
      "cell_type": "markdown",
      "source": [
        "**Parte B — Algoritmo A**\n",
        "\n",
        "**Implementação do Algoritmo A**"
      ],
      "metadata": {
        "id": "BlPbV0X1-V2A"
      }
    },
    {
      "cell_type": "code",
      "source": [
        "import numpy as np\n",
        "import matplotlib.pyplot as plt\n",
        "from heapq import heappush, heappop\n",
        "\n",
        "def generate_grid(size=20, obstacle_prob=0.15):\n",
        "\n",
        "    grid = np.random.choice([0, 1], size=(size, size), p=[1-obstacle_prob, obstacle_prob])\n",
        "\n",
        "    # Garante que início e destino são livres\n",
        "    grid[0, 0] = 0\n",
        "    grid[-1, -1] = 0\n",
        "\n",
        "    return grid\n",
        "\n",
        "def manhattan_distance(a, b):\n",
        "\n",
        "    return abs(a[0] - b[0]) + abs(a[1] - b[1])\n",
        "\n",
        "def a_star(grid, start, goal, heuristic):\n",
        "\n",
        "    rows, cols = grid.shape\n",
        "\n",
        "    # Verifica se início e destino são válidos\n",
        "    if grid[start] == 1 or grid[goal] == 1:\n",
        "        return None, float('inf')\n",
        "\n",
        "    # Estruturas de dados\n",
        "    open_set = []\n",
        "    heappush(open_set, (0, start))\n",
        "\n",
        "    came_from = {}\n",
        "    g_score = {start: 0}\n",
        "    f_score = {start: heuristic(start, goal)}\n",
        "\n",
        "    # Movimentos possíveis (4 direções)\n",
        "    directions = [(0, 1), (1, 0), (0, -1), (-1, 0)]\n",
        "\n",
        "    while open_set:\n",
        "        _, current = heappop(open_set)\n",
        "\n",
        "        if current == goal:\n",
        "            # Reconstrói o caminho\n",
        "            path = []\n",
        "            while current in came_from:\n",
        "                path.append(current)\n",
        "                current = came_from[current]\n",
        "            path.append(start)\n",
        "            return path[::-1], g_score[goal]\n",
        "\n",
        "        # Explora vizinhos\n",
        "        for dx, dy in directions:\n",
        "            neighbor = (current[0] + dx, current[1] + dy)\n",
        "\n",
        "            # Verifica limites e obstáculos\n",
        "            if (0 <= neighbor[0] < rows and 0 <= neighbor[1] < cols and\n",
        "                grid[neighbor] == 0):\n",
        "\n",
        "                tentative_g = g_score[current] + 1\n",
        "\n",
        "                if neighbor not in g_score or tentative_g < g_score[neighbor]:\n",
        "                    came_from[neighbor] = current\n",
        "                    g_score[neighbor] = tentative_g\n",
        "                    f_score[neighbor] = tentative_g + heuristic(neighbor, goal)\n",
        "                    heappush(open_set, (f_score[neighbor], neighbor))\n",
        "\n",
        "    return None, float('inf')  # Caminho não encontrado\n",
        "\n",
        "def visualize_grid(grid, path=None):\n",
        "\n",
        "    plt.figure(figsize=(10, 10))\n",
        "\n",
        "    # Cria matriz de visualização\n",
        "    visual_grid = np.zeros((grid.shape[0], grid.shape[1], 3))\n",
        "\n",
        "    # Obstáculos em preto\n",
        "    visual_grid[grid == 1] = [0, 0, 0]\n",
        "    # Caminho livre em branco\n",
        "    visual_grid[grid == 0] = [1, 1, 1]\n",
        "\n",
        "    if path:\n",
        "        # Caminho em vermelho\n",
        "        for pos in path:\n",
        "            visual_grid[pos] = [1, 0, 0]\n",
        "\n",
        "    # Início em verde, destino em azul\n",
        "    if path:\n",
        "        visual_grid[path[0]] = [0, 1, 0]  # Verde\n",
        "        visual_grid[path[-1]] = [0, 0, 1]  # Azul\n",
        "\n",
        "    plt.imshow(visual_grid)\n",
        "    plt.title(\"Labirinto - A* Search\")\n",
        "    plt.axis('off')\n",
        "    plt.show()\n",
        "\n",
        "    # Gera e testa o grid\n",
        "grid = generate_grid(20, 0.15)\n",
        "start = (0, 0)\n",
        "goal = (19, 19)\n",
        "\n",
        "print(\"Grid gerado (0 = livre, 1 = obstáculo):\")\n",
        "print(grid)\n",
        "\n",
        "# Executa A*\n",
        "path, cost = a_star(grid, start, goal, manhattan_distance)\n",
        "\n",
        "if path:\n",
        "    print(f\"\\nCaminho encontrado! Custo: {cost}\")\n",
        "    print(f\"Comprimento do caminho: {len(path)}\")\n",
        "    visualize_grid(grid, path)\n",
        "else:\n",
        "    print(\"\\nNão foi possível encontrar um caminho!\")\n",
        "    visualize_grid(grid)"
      ],
      "metadata": {
        "colab": {
          "base_uri": "https://localhost:8080/",
          "height": 739
        },
        "id": "SL7wqsGT-W7Z",
        "outputId": "be73b585-83b1-40d4-afbb-7b491dc00821"
      },
      "execution_count": null,
      "outputs": [
        {
          "output_type": "stream",
          "name": "stdout",
          "text": [
            "Grid gerado (0 = livre, 1 = obstáculo):\n",
            "[[0 0 0 0 0 0 0 0 0 0 1 0 0 0 0 0 0 0 0 0]\n",
            " [0 0 1 0 1 0 0 0 0 1 0 0 0 0 0 0 0 0 0 1]\n",
            " [0 0 0 0 1 1 0 0 0 0 0 1 0 0 0 0 0 0 0 0]\n",
            " [1 0 0 0 0 0 0 0 1 0 0 0 0 0 0 0 0 0 0 0]\n",
            " [0 0 0 0 0 0 0 0 1 0 0 0 0 0 0 0 0 0 0 0]\n",
            " [0 0 0 1 0 1 0 1 0 0 0 0 1 0 0 0 0 0 0 0]\n",
            " [1 0 1 0 0 0 0 0 0 0 0 1 0 0 0 0 0 1 0 1]\n",
            " [0 1 1 0 0 0 0 0 0 0 1 0 0 1 0 1 0 0 0 0]\n",
            " [0 0 0 0 0 0 0 0 0 0 0 0 0 1 1 0 0 0 0 1]\n",
            " [0 0 0 0 0 0 0 0 0 0 0 0 0 0 0 0 0 0 1 0]\n",
            " [0 0 0 0 0 0 0 1 0 0 0 0 0 0 1 0 0 0 0 0]\n",
            " [0 1 1 0 0 0 0 0 0 1 0 0 0 1 0 0 1 0 0 0]\n",
            " [0 0 0 0 0 0 0 0 1 0 0 1 0 0 1 0 0 0 0 1]\n",
            " [0 0 0 0 0 0 0 0 0 0 1 0 0 0 1 0 0 0 0 1]\n",
            " [0 0 0 0 0 1 0 0 0 0 0 0 0 0 0 0 1 0 1 1]\n",
            " [0 0 0 0 0 0 1 0 0 0 0 0 0 0 0 0 0 0 0 0]\n",
            " [1 0 0 0 0 0 1 0 1 0 0 0 0 0 1 0 0 0 0 1]\n",
            " [0 0 0 0 0 0 0 0 1 0 1 0 0 0 0 1 0 0 0 1]\n",
            " [0 1 0 0 0 1 0 0 1 0 0 0 0 0 0 0 0 0 0 0]\n",
            " [0 0 0 0 1 0 0 0 0 0 0 0 0 0 0 0 0 0 0 0]]\n",
            "\n",
            "Caminho encontrado! Custo: 38\n",
            "Comprimento do caminho: 39\n"
          ]
        },
        {
          "output_type": "display_data",
          "data": {
            "text/plain": [
              "<Figure size 1000x1000 with 1 Axes>"
            ],
            "image/png": "[encoded data removed]"
          },
          "metadata": {}
        }
      ]
    },
    {
      "cell_type": "markdown",
      "source": [
        "**Questões Discursivas - Parte B**\n",
        "\n",
        "**1. A vs Dijkstra: qual expande menos nós?**\n",
        "\n",
        "O A geralmente expande menos nós que o Dijkstra porque usa uma heurística para guiar a busca em direção ao objetivo, enquanto o Dijkstra explora igualmente em todas as direções, o A prioriza nós que parecem estar mais próximos do destino, tornando-o mais eficiente em problemas onde uma boa heurística está disponível.\n",
        "\n",
        "**2. Por que a heurística Manhattan é admissível nesse caso?**\n",
        "\n",
        "A distância Manhattan é admissível neste contexto porque em um grid com movimentação nas 4 direções (cima, baixo, esquerda, direita), ela nunca superestima o custo real. O custo mínimo entre dois pontos em tal grid é exatamente a distância Manhattan, já que cada movimento tem custo 1 e não é possível cortar caminho na diagonal."
      ],
      "metadata": {
        "id": "DYlyAD2T-oww"
      }
    },
    {
      "cell_type": "markdown",
      "source": [
        "**Parte C — Árvores Binárias e Percursos**\n",
        "\n",
        "**Implementação da BST e Percursos**"
      ],
      "metadata": {
        "id": "d37GHmm8_hyu"
      }
    },
    {
      "cell_type": "code",
      "source": [
        "class Node:\n",
        "    #Nó de uma árvore binária\n",
        "    def __init__(self, value):\n",
        "        self.value = value\n",
        "        self.left = None\n",
        "        self.right = None\n",
        "\n",
        "class BST:\n",
        "    #Árvore Binária de Busca\n",
        "    def __init__(self):\n",
        "        self.root = None\n",
        "\n",
        "    def insert(self, value):\n",
        "        #Insere um valor na BST\n",
        "        if self.root is None:\n",
        "            self.root = Node(value)\n",
        "        else:\n",
        "            self._insert_recursive(self.root, value)\n",
        "\n",
        "    def _insert_recursive(self, node, value):\n",
        "        if value < node.value:\n",
        "            if node.left is None:\n",
        "                node.left = Node(value)\n",
        "            else:\n",
        "                self._insert_recursive(node.left, value)\n",
        "        else:\n",
        "            if node.right is None:\n",
        "                node.right = Node(value)\n",
        "            else:\n",
        "                self._insert_recursive(node.right, value)\n",
        "\n",
        "def in_order(node, result=None):\n",
        "    #Percurso em ordem: esquerda → raiz → direita\n",
        "    if result is None:\n",
        "        result = []\n",
        "\n",
        "    if node:\n",
        "        in_order(node.left, result)\n",
        "        result.append(node.value)\n",
        "        in_order(node.right, result)\n",
        "\n",
        "    return result\n",
        "\n",
        "def pre_order(node, result=None):\n",
        "    #Percurso pré-ordem: raiz → esquerda → direita\n",
        "    if result is None:\n",
        "        result = []\n",
        "\n",
        "    if node:\n",
        "        result.append(node.value)\n",
        "        pre_order(node.left, result)\n",
        "        pre_order(node.right, result)\n",
        "\n",
        "    return result\n",
        "\n",
        "def post_order(node, result=None):\n",
        "    #Percurso pós-ordem: esquerda → direita → raiz\n",
        "    if result is None:\n",
        "        result = []\n",
        "\n",
        "    if node:\n",
        "        post_order(node.left, result)\n",
        "        post_order(node.right, result)\n",
        "        result.append(node.value)\n",
        "\n",
        "    return result\n",
        "\n",
        "    # Cria a BST com os valores fornecidos\n",
        "values = [50, 30, 70, 20, 40, 60, 80, 35, 45]\n",
        "bst = BST()\n",
        "\n",
        "for value in values:\n",
        "    bst.insert(value)\n",
        "\n",
        "# Executa os percursos\n",
        "print(\"Valores inseridos:\", values)\n",
        "print(\"\\nPercurso Em-Ordem:\", in_order(bst.root))\n",
        "print(\"Percurso Pré-Ordem:\", pre_order(bst.root))\n",
        "print(\"Percurso Pós-Ordem:\", post_order(bst.root))\n",
        "\n",
        "# Verificação esperada\n",
        "print(\"\\n--- Verificação ---\")\n",
        "print(\"Em-ordem esperado: [20, 30, 35, 40, 45, 50, 60, 70, 80]\")\n",
        "print(\"Pré-ordem esperado: [50, 30, 20, 40, 35, 45, 70, 60, 80]\")\n",
        "print(\"Pós-ordem esperado: [20, 35, 45, 40, 30, 60, 80, 70, 50]\")\n",
        "\n"
      ],
      "metadata": {
        "colab": {
          "base_uri": "https://localhost:8080/"
        },
        "id": "buLcMQkk_jF2",
        "outputId": "e996dc96-793a-4247-c31a-76a14068ddaa"
      },
      "execution_count": null,
      "outputs": [
        {
          "output_type": "stream",
          "name": "stdout",
          "text": [
            "Valores inseridos: [50, 30, 70, 20, 40, 60, 80, 35, 45]\n",
            "\n",
            "Percurso Em-Ordem: [20, 30, 35, 40, 45, 50, 60, 70, 80]\n",
            "Percurso Pré-Ordem: [50, 30, 20, 40, 35, 45, 70, 60, 80]\n",
            "Percurso Pós-Ordem: [20, 35, 45, 40, 30, 60, 80, 70, 50]\n",
            "\n",
            "--- Verificação ---\n",
            "Em-ordem esperado: [20, 30, 35, 40, 45, 50, 60, 70, 80]\n",
            "Pré-ordem esperado: [50, 30, 20, 40, 35, 45, 70, 60, 80]\n",
            "Pós-ordem esperado: [20, 35, 45, 40, 30, 60, 80, 70, 50]\n"
          ]
        }
      ]
    },
    {
      "cell_type": "markdown",
      "source": [
        "**Questões Discursivas - Parte C**\n",
        "\n",
        "**1. Em que situação cada tipo de percurso é mais indicado?**\n",
        "\n",
        "· Em-ordem: Ideal para obter elementos em ordem crescente em BSTs, útil para relatórios ordenados, estatísticas ou quando se precisa processar dados de forma sequencial.\n",
        "\n",
        "· Pré-ordem: Útil para copiar/reconstruir árvores, serialização, ou quando se precisa processar a raiz antes das subárvores (como em expressões matemáticas).\n",
        "\n",
        "· Pós-ordem: Adequado para operações que requerem processar filhos antes dos pais, como liberação de memória, cálculo de totais acumulados, ou avaliação de expressões pós-fixadas."
      ],
      "metadata": {
        "id": "awXvIjog_z2-"
      }
    },
    {
      "cell_type": "markdown",
      "source": [
        "**Parte D — Reflexões**"
      ],
      "metadata": {
        "id": "_j77ZImaAKhe"
      }
    },
    {
      "cell_type": "markdown",
      "source": [
        "**1. Quando não é vantajoso usar A, mesmo tendo uma heurística?**\n",
        "\n",
        "O A pode não ser vantajoso quando:\n",
        "\n",
        "(1) o espaço de busca é muito pequeno e o overhead da heurística supera o benefício;\n",
        "\n",
        "(2) a heurística é computacionalmente cara;\n",
        "\n",
        "(3) em ambientes dinâmicos onde o custo das arestas muda frequentemente;\n",
        "\n",
        "(4) quando a memória é limitada, pois o A* mantém mais informações que algoritmos mais simples;\n",
        "\n",
        "(5) em problemas onde a qualidade da solução não precisa ser ótima, podendo-se usar algoritmos mais rápidos como Best-First Search.\n",
        "\n",
        "**2. Diferencie corretude e otimalidade nos algoritmos estudados.**\n",
        "\n",
        "Corretude refere-se à capacidade do algoritmo sempre encontrar uma solução quando ela existe (terminação) e nunca retornar uma solução incorreta. Optimalidade significa que o algoritmo sempre encontra a melhor solução possível (menor custo). Dijkstra e A são ambos corretos e ótimos para grafos com pesos não-negativos. Um algoritmo pode ser correto mas não ótimo (como Best-First Search com heurística), mas não pode ser ótimo sem ser correto.\n",
        "\n",
        "**3. Dê um exemplo do mundo real onde cada tipo de percurso (em, pré, pós) é essencial.**\n",
        "\n",
        "· Em-ordem: Sistema de recomendação de produtos por preço - ao percorrer uma BST de produtos ordenada por preço em-ordem, obtemos produtos do mais barato ao mais caro naturalmente.\n",
        "· Pré-ordem: Clone de estrutura organizacional - ao copiar uma hierarquia de departamentos de empresa, precisamos criar o nó pai (gerente) antes dos filhos (subordinados).\n",
        "· Pós-ordem: Cálculo de orçamento em projetos - para calcular o custo total de um projeto, precisamos somar primeiro os custos das sub-tarefas antes do projeto principal.\n",
        "\n",
        "**4. Como heurísticas inconsistentes podem afetar o resultado do A ?**\n",
        "\n",
        "Heurísticas inconsistentes (que violam a desigualdade triangular) podem fazer com que o A* reexpanda nós, aumentando significativamente o tempo de execução. Embora o A* ainda retorne o caminho ótimo com heurísticas admissíveis mas inconsistentes, a eficiência é comprometida. Em casos extremos, o comportamento pode se aproximar do Dijkstra. Heurísticas consistentes garantem que cada nó seja expandido apenas uma vez, otimizando a performance."
      ],
      "metadata": {
        "id": "f4auxYImEkUe"
      }
    }
  ],
  "metadata": {
    "colab": {
      "provenance": [],
      "include_colab_link": true
    },
    "kernelspec": {
      "display_name": "Python 3",
      "name": "python3"
    }
  },
  "nbformat": 4,
  "nbformat_minor": 0
}